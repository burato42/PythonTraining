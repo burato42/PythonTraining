{
 "metadata": {
  "name": ""
 },
 "nbformat": 3,
 "nbformat_minor": 0,
 "worksheets": [
  {
   "cells": [
    {
     "cell_type": "markdown",
     "metadata": {},
     "source": [
      "\u0417\u0430\u0434\u0430\u043d\u0438\u0435: \u043d\u0430\u043f\u0438\u0448\u0438\u0442\u0435 \u0444\u0443\u043d\u043a\u0446\u0438\u044e primes(N), \u043a\u043e\u0442\u043e\u0440\u0430\u044f \u0432\u044b\u0432\u0435\u0434\u0435\u0442 \u0432\u0441\u0435 \u043f\u0440\u043e\u0441\u0442\u044b\u0435 \u0447\u0438\u0441\u043b\u0430 \u043c\u0435\u043d\u044c\u0448\u0435 N"
     ]
    },
    {
     "cell_type": "markdown",
     "metadata": {},
     "source": [
      "\u041f\u0435\u0440\u0432\u044b\u0439 \u0432\u0430\u0440\u0438\u0430\u043d\u0442:"
     ]
    },
    {
     "cell_type": "code",
     "collapsed": false,
     "input": [
      "def primes(N):\n",
      "\tfor i in range(N):\n",
      "\t\tif i==1 or i==2:\n",
      "\t\t\tprint i,\n",
      "\t\telse:\n",
      "\t\t\tprime = True\n",
      "\t\t\tfor j in range(2,i):\n",
      "\t\t\t\tif not i%j:\n",
      "\t\t\t\t\tprime = not prime\n",
      "\t\t\t\t\tbreak\n",
      "\t\t\tif prime:\n",
      "\t\t\t\tprint i,"
     ],
     "language": "python",
     "metadata": {},
     "outputs": [],
     "prompt_number": 1
    },
    {
     "cell_type": "code",
     "collapsed": false,
     "input": [
      "primes(100)"
     ],
     "language": "python",
     "metadata": {},
     "outputs": [
      {
       "output_type": "stream",
       "stream": "stdout",
       "text": [
        "0 1 2 3 5 7 11 13 17 19 23 29 31 37 41 43 47 53 59 61 67 71 73 79 83 89 97\n"
       ]
      }
     ],
     "prompt_number": 2
    },
    {
     "cell_type": "markdown",
     "metadata": {},
     "source": [
      "\u0412\u0442\u043e\u0440\u043e\u0439 \u0432\u0430\u0440\u0438\u0430\u043d\u0442:"
     ]
    },
    {
     "cell_type": "code",
     "collapsed": false,
     "input": [
      "def primes2(N):\n",
      "\tfor i in range(N):\n",
      "\t\tfor j in range(2,i):\n",
      "\t\t\tif not i%j:\n",
      "\t\t\t\tbreak\n",
      "\t\telse:\n",
      "\t\t\tprint i,"
     ],
     "language": "python",
     "metadata": {},
     "outputs": [],
     "prompt_number": 3
    },
    {
     "cell_type": "code",
     "collapsed": false,
     "input": [
      "primes2(100)"
     ],
     "language": "python",
     "metadata": {},
     "outputs": [
      {
       "output_type": "stream",
       "stream": "stdout",
       "text": [
        "0 1 2 3 5 7 11 13 17 19 23 29 31 37 41 43 47 53 59 61 67 71 73 79 83 89 97\n"
       ]
      }
     ],
     "prompt_number": 4
    }
   ],
   "metadata": {}
  }
 ]
}